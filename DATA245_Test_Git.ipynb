{
 "cells": [
  {
   "cell_type": "markdown",
   "id": "d42f3d9b-1d3d-4a5d-9efa-b2ea43e4a4c9",
   "metadata": {},
   "source": [
    "### DATA245: Git Branch and Merge Practice"
   ]
  },
  {
   "cell_type": "markdown",
   "id": "be172d0f-3254-4ae5-9203-794aa7ad1ecf",
   "metadata": {},
   "source": [
    "<li>Create a branch.\n",
    "<li>Add your name.\n",
    "<li>Merge code back."
   ]
  },
  {
   "cell_type": "code",
   "execution_count": 1,
   "id": "ed2ce534-27e7-4739-9495-0bd173dbb0dc",
   "metadata": {},
   "outputs": [
    {
     "name": "stdout",
     "output_type": "stream",
     "text": [
      "Group 2. Add your name.\n"
     ]
    }
   ],
   "source": [
    "print('Group 2. Add your name.')"
   ]
  }
 ],
 "metadata": {
  "kernelspec": {
   "display_name": "Python 3",
   "language": "python",
   "name": "python3"
  },
  "language_info": {
   "codemirror_mode": {
    "name": "ipython",
    "version": 3
   },
   "file_extension": ".py",
   "mimetype": "text/x-python",
   "name": "python",
   "nbconvert_exporter": "python",
   "pygments_lexer": "ipython3",
   "version": "3.8.8"
  }
 },
 "nbformat": 4,
 "nbformat_minor": 5
}
